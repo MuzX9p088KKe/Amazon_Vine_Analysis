{
 "cells": [
  {
   "cell_type": "code",
   "execution_count": 1,
   "id": "3950dbfc",
   "metadata": {},
   "outputs": [],
   "source": [
    "import pandas as pd"
   ]
  },
  {
   "cell_type": "code",
   "execution_count": 2,
   "id": "635cb81d",
   "metadata": {},
   "outputs": [],
   "source": [
    "vine_df = pd.read_csv(\"Resources/vine_table.csv\")"
   ]
  },
  {
   "cell_type": "code",
   "execution_count": 4,
   "id": "b74bc897",
   "metadata": {},
   "outputs": [
    {
     "data": {
      "text/html": [
       "<div>\n",
       "<style scoped>\n",
       "    .dataframe tbody tr th:only-of-type {\n",
       "        vertical-align: middle;\n",
       "    }\n",
       "\n",
       "    .dataframe tbody tr th {\n",
       "        vertical-align: top;\n",
       "    }\n",
       "\n",
       "    .dataframe thead th {\n",
       "        text-align: right;\n",
       "    }\n",
       "</style>\n",
       "<table border=\"1\" class=\"dataframe\">\n",
       "  <thead>\n",
       "    <tr style=\"text-align: right;\">\n",
       "      <th></th>\n",
       "      <th>review_id</th>\n",
       "      <th>star_rating</th>\n",
       "      <th>helpful_votes</th>\n",
       "      <th>total_votes</th>\n",
       "      <th>vine</th>\n",
       "      <th>verified_purchase</th>\n",
       "    </tr>\n",
       "  </thead>\n",
       "  <tbody>\n",
       "    <tr>\n",
       "      <th>0</th>\n",
       "      <td>RAB23OVFNCXZQ</td>\n",
       "      <td>1.0</td>\n",
       "      <td>0.0</td>\n",
       "      <td>0.0</td>\n",
       "      <td>N</td>\n",
       "      <td>Y</td>\n",
       "    </tr>\n",
       "    <tr>\n",
       "      <th>1</th>\n",
       "      <td>R3NORADVJO6IE6</td>\n",
       "      <td>5.0</td>\n",
       "      <td>0.0</td>\n",
       "      <td>0.0</td>\n",
       "      <td>N</td>\n",
       "      <td>Y</td>\n",
       "    </tr>\n",
       "    <tr>\n",
       "      <th>2</th>\n",
       "      <td>R299F4SO98S5OO</td>\n",
       "      <td>5.0</td>\n",
       "      <td>1.0</td>\n",
       "      <td>1.0</td>\n",
       "      <td>N</td>\n",
       "      <td>Y</td>\n",
       "    </tr>\n",
       "    <tr>\n",
       "      <th>3</th>\n",
       "      <td>R2DA9DOT03UW6I</td>\n",
       "      <td>5.0</td>\n",
       "      <td>2.0</td>\n",
       "      <td>3.0</td>\n",
       "      <td>N</td>\n",
       "      <td>Y</td>\n",
       "    </tr>\n",
       "    <tr>\n",
       "      <th>4</th>\n",
       "      <td>R2OGCH681EQHU6</td>\n",
       "      <td>5.0</td>\n",
       "      <td>0.0</td>\n",
       "      <td>0.0</td>\n",
       "      <td>N</td>\n",
       "      <td>Y</td>\n",
       "    </tr>\n",
       "  </tbody>\n",
       "</table>\n",
       "</div>"
      ],
      "text/plain": [
       "        review_id  star_rating  helpful_votes  total_votes vine  \\\n",
       "0   RAB23OVFNCXZQ          1.0            0.0          0.0    N   \n",
       "1  R3NORADVJO6IE6          5.0            0.0          0.0    N   \n",
       "2  R299F4SO98S5OO          5.0            1.0          1.0    N   \n",
       "3  R2DA9DOT03UW6I          5.0            2.0          3.0    N   \n",
       "4  R2OGCH681EQHU6          5.0            0.0          0.0    N   \n",
       "\n",
       "  verified_purchase  \n",
       "0                 Y  \n",
       "1                 Y  \n",
       "2                 Y  \n",
       "3                 Y  \n",
       "4                 Y  "
      ]
     },
     "execution_count": 4,
     "metadata": {},
     "output_type": "execute_result"
    }
   ],
   "source": [
    "vine_df.head()"
   ]
  },
  {
   "cell_type": "code",
   "execution_count": 6,
   "id": "6ea30fb6",
   "metadata": {},
   "outputs": [],
   "source": [
    "vine_20_df = vine_df.loc[vine_df[\"total_votes\"] >= 20]"
   ]
  },
  {
   "cell_type": "code",
   "execution_count": 7,
   "id": "a3bd994d",
   "metadata": {},
   "outputs": [
    {
     "data": {
      "text/html": [
       "<div>\n",
       "<style scoped>\n",
       "    .dataframe tbody tr th:only-of-type {\n",
       "        vertical-align: middle;\n",
       "    }\n",
       "\n",
       "    .dataframe tbody tr th {\n",
       "        vertical-align: top;\n",
       "    }\n",
       "\n",
       "    .dataframe thead th {\n",
       "        text-align: right;\n",
       "    }\n",
       "</style>\n",
       "<table border=\"1\" class=\"dataframe\">\n",
       "  <thead>\n",
       "    <tr style=\"text-align: right;\">\n",
       "      <th></th>\n",
       "      <th>review_id</th>\n",
       "      <th>star_rating</th>\n",
       "      <th>helpful_votes</th>\n",
       "      <th>total_votes</th>\n",
       "      <th>vine</th>\n",
       "      <th>verified_purchase</th>\n",
       "    </tr>\n",
       "  </thead>\n",
       "  <tbody>\n",
       "    <tr>\n",
       "      <th>487</th>\n",
       "      <td>R1T4FVSABO0IDP</td>\n",
       "      <td>5.0</td>\n",
       "      <td>8.0</td>\n",
       "      <td>31.0</td>\n",
       "      <td>N</td>\n",
       "      <td>Y</td>\n",
       "    </tr>\n",
       "    <tr>\n",
       "      <th>613</th>\n",
       "      <td>R397VXR1GAK6C9</td>\n",
       "      <td>5.0</td>\n",
       "      <td>21.0</td>\n",
       "      <td>21.0</td>\n",
       "      <td>N</td>\n",
       "      <td>Y</td>\n",
       "    </tr>\n",
       "    <tr>\n",
       "      <th>1058</th>\n",
       "      <td>R2H6KB9RHS17GA</td>\n",
       "      <td>3.0</td>\n",
       "      <td>59.0</td>\n",
       "      <td>69.0</td>\n",
       "      <td>N</td>\n",
       "      <td>Y</td>\n",
       "    </tr>\n",
       "    <tr>\n",
       "      <th>1097</th>\n",
       "      <td>R3HAK0MUN9F5IT</td>\n",
       "      <td>1.0</td>\n",
       "      <td>6.0</td>\n",
       "      <td>28.0</td>\n",
       "      <td>N</td>\n",
       "      <td>Y</td>\n",
       "    </tr>\n",
       "    <tr>\n",
       "      <th>1373</th>\n",
       "      <td>R29UTZTOPUVRSV</td>\n",
       "      <td>5.0</td>\n",
       "      <td>21.0</td>\n",
       "      <td>21.0</td>\n",
       "      <td>N</td>\n",
       "      <td>Y</td>\n",
       "    </tr>\n",
       "    <tr>\n",
       "      <th>...</th>\n",
       "      <td>...</td>\n",
       "      <td>...</td>\n",
       "      <td>...</td>\n",
       "      <td>...</td>\n",
       "      <td>...</td>\n",
       "      <td>...</td>\n",
       "    </tr>\n",
       "    <tr>\n",
       "      <th>3514924</th>\n",
       "      <td>R1B4VY89QJI9YM</td>\n",
       "      <td>4.0</td>\n",
       "      <td>61.0</td>\n",
       "      <td>69.0</td>\n",
       "      <td>N</td>\n",
       "      <td>N</td>\n",
       "    </tr>\n",
       "    <tr>\n",
       "      <th>3514928</th>\n",
       "      <td>R3EOKOI381VNAD</td>\n",
       "      <td>5.0</td>\n",
       "      <td>28.0</td>\n",
       "      <td>31.0</td>\n",
       "      <td>N</td>\n",
       "      <td>N</td>\n",
       "    </tr>\n",
       "    <tr>\n",
       "      <th>3514935</th>\n",
       "      <td>R2X2OT2N2L6VTH</td>\n",
       "      <td>1.0</td>\n",
       "      <td>33.0</td>\n",
       "      <td>36.0</td>\n",
       "      <td>N</td>\n",
       "      <td>N</td>\n",
       "    </tr>\n",
       "    <tr>\n",
       "      <th>3514939</th>\n",
       "      <td>R3SPUAB0NVAB0O</td>\n",
       "      <td>5.0</td>\n",
       "      <td>17.0</td>\n",
       "      <td>20.0</td>\n",
       "      <td>N</td>\n",
       "      <td>N</td>\n",
       "    </tr>\n",
       "    <tr>\n",
       "      <th>3514940</th>\n",
       "      <td>R2O7ALEKWVTK9N</td>\n",
       "      <td>2.0</td>\n",
       "      <td>20.0</td>\n",
       "      <td>23.0</td>\n",
       "      <td>N</td>\n",
       "      <td>N</td>\n",
       "    </tr>\n",
       "  </tbody>\n",
       "</table>\n",
       "<p>27014 rows × 6 columns</p>\n",
       "</div>"
      ],
      "text/plain": [
       "              review_id  star_rating  helpful_votes  total_votes vine  \\\n",
       "487      R1T4FVSABO0IDP          5.0            8.0         31.0    N   \n",
       "613      R397VXR1GAK6C9          5.0           21.0         21.0    N   \n",
       "1058     R2H6KB9RHS17GA          3.0           59.0         69.0    N   \n",
       "1097     R3HAK0MUN9F5IT          1.0            6.0         28.0    N   \n",
       "1373     R29UTZTOPUVRSV          5.0           21.0         21.0    N   \n",
       "...                 ...          ...            ...          ...  ...   \n",
       "3514924  R1B4VY89QJI9YM          4.0           61.0         69.0    N   \n",
       "3514928  R3EOKOI381VNAD          5.0           28.0         31.0    N   \n",
       "3514935  R2X2OT2N2L6VTH          1.0           33.0         36.0    N   \n",
       "3514939  R3SPUAB0NVAB0O          5.0           17.0         20.0    N   \n",
       "3514940  R2O7ALEKWVTK9N          2.0           20.0         23.0    N   \n",
       "\n",
       "        verified_purchase  \n",
       "487                     Y  \n",
       "613                     Y  \n",
       "1058                    Y  \n",
       "1097                    Y  \n",
       "1373                    Y  \n",
       "...                   ...  \n",
       "3514924                 N  \n",
       "3514928                 N  \n",
       "3514935                 N  \n",
       "3514939                 N  \n",
       "3514940                 N  \n",
       "\n",
       "[27014 rows x 6 columns]"
      ]
     },
     "execution_count": 7,
     "metadata": {},
     "output_type": "execute_result"
    }
   ],
   "source": [
    "vine_20_df"
   ]
  },
  {
   "cell_type": "code",
   "execution_count": 12,
   "id": "7e233e4c",
   "metadata": {},
   "outputs": [],
   "source": [
    "vine_helpful_df = vine_20_df.loc[(vine_20_df[\"helpful_votes\"]/vine_20_df[\"total_votes\"])>=0.5]"
   ]
  },
  {
   "cell_type": "code",
   "execution_count": 40,
   "id": "1f1ae211",
   "metadata": {},
   "outputs": [],
   "source": [
    "vine_N_df = vine_helpful_df[vine_helpful_df[\"vine\"]==\"N\"]"
   ]
  },
  {
   "cell_type": "code",
   "execution_count": 21,
   "id": "02f0e631",
   "metadata": {},
   "outputs": [],
   "source": [
    "vine_Y_df = vine_helpful_df[vine_helpful_df[\"vine\"]==\"Y\"]"
   ]
  },
  {
   "cell_type": "code",
   "execution_count": 62,
   "id": "a7df7ab9",
   "metadata": {},
   "outputs": [
    {
     "name": "stdout",
     "output_type": "stream",
     "text": [
      "There were 24742 reviews which were NOT a part of the Vine program. They included 12807 5-Stars reviews, or 51.76% of the total.\n"
     ]
    }
   ],
   "source": [
    "unique_N_reviews = vine_N_df[\"review_id\"].nunique()\n",
    "star5_N_reviews = len(vine_N_df[vine_N_df[\"star_rating\"]==5])\n",
    "percent_5star_N = star5_N_reviews/unique_N_reviews\n",
    "print(f\"There were {unique_N_reviews} reviews which were NOT a part of the Vine program. They included {star5_N_reviews} 5-Stars reviews, or {100*percent_5star_N:.2f}% of the total.\")"
   ]
  },
  {
   "cell_type": "code",
   "execution_count": 63,
   "id": "866afd0a",
   "metadata": {},
   "outputs": [
    {
     "name": "stdout",
     "output_type": "stream",
     "text": [
      "There were 82 reviews which WERE a part of the Vine program. They included 33 5-Stars reviews, or 40.24% of the total.\n"
     ]
    }
   ],
   "source": [
    "unique_Y_reviews = vine_Y_df[\"review_id\"].nunique()\n",
    "star5_Y_reviews = len(vine_Y_df[vine_Y_df[\"star_rating\"]==5])\n",
    "percent_5star_Y = star5_Y_reviews/unique_Y_reviews\n",
    "print(f\"There were {unique_Y_reviews} reviews which WERE a part of the Vine program. They included {star5_Y_reviews} 5-Stars reviews, or {100*percent_5star_Y:.2f}% of the total.\")"
   ]
  },
  {
   "cell_type": "code",
   "execution_count": null,
   "id": "5ec84292",
   "metadata": {},
   "outputs": [],
   "source": []
  }
 ],
 "metadata": {
  "kernelspec": {
   "display_name": "Python 3",
   "language": "python",
   "name": "python3"
  },
  "language_info": {
   "codemirror_mode": {
    "name": "ipython",
    "version": 3
   },
   "file_extension": ".py",
   "mimetype": "text/x-python",
   "name": "python",
   "nbconvert_exporter": "python",
   "pygments_lexer": "ipython3",
   "version": "3.8.5"
  }
 },
 "nbformat": 4,
 "nbformat_minor": 5
}
